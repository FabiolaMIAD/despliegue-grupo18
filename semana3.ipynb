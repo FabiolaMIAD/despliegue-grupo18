{
 "cells": [
  {
   "cell_type": "code",
   "execution_count": 1,
   "id": "492ed54a-6548-42e8-bd04-79095cd7e74c",
   "metadata": {},
   "outputs": [
    {
     "name": "stdout",
     "output_type": "stream",
     "text": [
      "                              name releaseDate  copiesSold  price    revenue  \\\n",
      "0                         WWE 2K24  07-03-2024      165301  99.99  8055097.0   \n",
      "1            EARTH DEFENSE FORCE 6  25-07-2024      159806  59.99  7882151.0   \n",
      "2        Sins of a Solar Empire II  15-08-2024      214192  49.99  7815247.0   \n",
      "3                 Legend of Mortal  14-06-2024      440998  19.99  7756399.0   \n",
      "4  Shin Megami Tensei V: Vengeance  13-06-2024      141306  59.99  7629252.0   \n",
      "5                         Soulmask  30-05-2024      304685  29.99  7540563.0   \n",
      "6                    The Universim  22-01-2024      328945  29.99  7534369.0   \n",
      "7                       Bellwright  23-04-2024      280955  29.99  7481940.0   \n",
      "8                Night of the Dead  31-05-2024      394364  29.99  7091792.0   \n",
      "9       Empires of the Undergrowth  07-06-2024      408292  29.99  6950952.0   \n",
      "\n",
      "   avgPlaytime  reviewScore publisherClass                   publishers  \\\n",
      "0    42.365140           71            AAA                           2K   \n",
      "1    29.651061           57          Indie                  D3PUBLISHER   \n",
      "2    12.452593           88          Indie       Stardock Entertainment   \n",
      "3    24.797817           76          Indie  Paras Games,Obb Studio Inc.   \n",
      "4    34.258496           96             AA                         SEGA   \n",
      "5    95.697813           79          Indie                Qooland Games   \n",
      "6    16.868531           81          Indie                      Crytivo   \n",
      "7    41.418885           78          Indie  Donkey Crew,Snail Games USA   \n",
      "8    27.597072           79          Indie               Jackto Studios   \n",
      "9    38.602124           95             AA      Hooded Horse,Slug Disco   \n",
      "\n",
      "                                          developers  steamId  \n",
      "0                                    Visual Concepts  2315690  \n",
      "1                                            SANDLOT  2291060  \n",
      "2  Ironclad Games Corporation,Stardock Entertainment  1575940  \n",
      "3                                    Obb Studio Inc.  1859910  \n",
      "4                                              ATLUS  1875830  \n",
      "5                                    CampFire Studio  2646460  \n",
      "6                                            Crytivo   352720  \n",
      "7                                        Donkey Crew  1812450  \n",
      "8                                     Jackto Studios  1377380  \n",
      "9                                         Slug Disco   463530  \n"
     ]
    }
   ],
   "source": [
    "import pandas as pd\n",
    "\n",
    "# Leer el archivo CSV\n",
    "file_path = 'Steam_2024_bestRevenue_1500.csv'\n",
    "df = pd.read_csv(file_path)\n",
    "\n",
    "# El siguiente código muestra las primeras 10 filas del archivo\n",
    "print(df.head(10))\n"
   ]
  },
  {
   "cell_type": "code",
   "execution_count": 2,
   "id": "93acb380-6d9d-4412-a999-a2dfeba52c74",
   "metadata": {},
   "outputs": [
    {
     "name": "stdout",
     "output_type": "stream",
     "text": [
      "<class 'pandas.core.frame.DataFrame'>\n",
      "RangeIndex: 1500 entries, 0 to 1499\n",
      "Data columns (total 11 columns):\n",
      " #   Column          Non-Null Count  Dtype  \n",
      "---  ------          --------------  -----  \n",
      " 0   name            1500 non-null   object \n",
      " 1   releaseDate     1500 non-null   object \n",
      " 2   copiesSold      1500 non-null   int64  \n",
      " 3   price           1500 non-null   float64\n",
      " 4   revenue         1500 non-null   float64\n",
      " 5   avgPlaytime     1500 non-null   float64\n",
      " 6   reviewScore     1500 non-null   int64  \n",
      " 7   publisherClass  1500 non-null   object \n",
      " 8   publishers      1499 non-null   object \n",
      " 9   developers      1498 non-null   object \n",
      " 10  steamId         1500 non-null   int64  \n",
      "dtypes: float64(3), int64(3), object(5)\n",
      "memory usage: 129.0+ KB\n",
      "None\n",
      "         copiesSold        price       revenue  avgPlaytime  reviewScore  \\\n",
      "count  1.500000e+03  1500.000000  1.500000e+03  1500.000000  1500.000000   \n",
      "mean   1.414826e+05    17.519513  2.632382e+06    12.562704    76.201333   \n",
      "std    1.132757e+06    12.646612  2.781024e+07    21.542173    24.319438   \n",
      "min    5.930000e+02     0.000000  2.067400e+04     0.000000     0.000000   \n",
      "25%    4.918750e+03     9.990000  4.550425e+04     3.564848    72.000000   \n",
      "50%    1.192850e+04    14.990000  1.090530e+05     6.762776    83.000000   \n",
      "75%    3.786975e+04    19.990000  4.551568e+05    13.104473    92.000000   \n",
      "max    3.073915e+07    99.990000  8.377934e+08   296.332852   100.000000   \n",
      "\n",
      "            steamId  \n",
      "count  1.500000e+03  \n",
      "mean   2.183788e+06  \n",
      "std    6.067725e+05  \n",
      "min    2.488000e+04  \n",
      "25%    1.792795e+06  \n",
      "50%    2.321985e+06  \n",
      "75%    2.693228e+06  \n",
      "max    3.107330e+06  \n"
     ]
    }
   ],
   "source": [
    "# Mostrar información adicional como el tipo de datos en cada columna\n",
    "print(df.info())\n",
    "\n",
    "# Opcional: Mostrar estadísticas descriptivas sobre las columnas numéricas\n",
    "print(df.describe())"
   ]
  },
  {
   "cell_type": "code",
   "execution_count": null,
   "id": "7d7a04a2-cb37-47e5-a0fc-c1f3d35d4de9",
   "metadata": {},
   "outputs": [],
   "source": []
  }
 ],
 "metadata": {
  "kernelspec": {
   "display_name": "Python 3 (ipykernel)",
   "language": "python",
   "name": "python3"
  },
  "language_info": {
   "codemirror_mode": {
    "name": "ipython",
    "version": 3
   },
   "file_extension": ".py",
   "mimetype": "text/x-python",
   "name": "python",
   "nbconvert_exporter": "python",
   "pygments_lexer": "ipython3",
   "version": "3.13.0"
  }
 },
 "nbformat": 4,
 "nbformat_minor": 5
}
